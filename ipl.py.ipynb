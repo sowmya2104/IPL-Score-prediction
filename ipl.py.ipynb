{
 "cells": [
  {
   "cell_type": "code",
   "execution_count": 6,
   "id": "8ce03396",
   "metadata": {},
   "outputs": [],
   "source": [
    "import pandas as pd\n",
    "import numpy as np\n",
    "import matplotlib.pyplot as plt\n",
    "import seaborn as sns\n",
    "from sklearn import preprocessing\n",
    "import keras\n",
    "import tensorflow as tf"
   ]
  },
  {
   "cell_type": "code",
   "execution_count": 7,
   "id": "0bd2dfcf",
   "metadata": {},
   "outputs": [
    {
     "data": {
      "text/html": [
       "<div>\n",
       "<style scoped>\n",
       "    .dataframe tbody tr th:only-of-type {\n",
       "        vertical-align: middle;\n",
       "    }\n",
       "\n",
       "    .dataframe tbody tr th {\n",
       "        vertical-align: top;\n",
       "    }\n",
       "\n",
       "    .dataframe thead th {\n",
       "        text-align: right;\n",
       "    }\n",
       "</style>\n",
       "<table border=\"1\" class=\"dataframe\">\n",
       "  <thead>\n",
       "    <tr style=\"text-align: right;\">\n",
       "      <th></th>\n",
       "      <th>mid</th>\n",
       "      <th>date</th>\n",
       "      <th>venue</th>\n",
       "      <th>bat_team</th>\n",
       "      <th>bowl_team</th>\n",
       "      <th>batsman</th>\n",
       "      <th>bowler</th>\n",
       "      <th>runs</th>\n",
       "      <th>wickets</th>\n",
       "      <th>overs</th>\n",
       "      <th>runs_last_5</th>\n",
       "      <th>wickets_last_5</th>\n",
       "      <th>striker</th>\n",
       "      <th>non-striker</th>\n",
       "      <th>total</th>\n",
       "    </tr>\n",
       "  </thead>\n",
       "  <tbody>\n",
       "    <tr>\n",
       "      <th>0</th>\n",
       "      <td>1</td>\n",
       "      <td>18-04-2008</td>\n",
       "      <td>M Chinnaswamy Stadium</td>\n",
       "      <td>Kolkata Knight Riders</td>\n",
       "      <td>Royal Challengers Bangalore</td>\n",
       "      <td>SC Ganguly</td>\n",
       "      <td>P Kumar</td>\n",
       "      <td>1</td>\n",
       "      <td>0</td>\n",
       "      <td>0.1</td>\n",
       "      <td>1</td>\n",
       "      <td>0</td>\n",
       "      <td>0</td>\n",
       "      <td>0</td>\n",
       "      <td>222</td>\n",
       "    </tr>\n",
       "    <tr>\n",
       "      <th>1</th>\n",
       "      <td>1</td>\n",
       "      <td>18-04-2008</td>\n",
       "      <td>M Chinnaswamy Stadium</td>\n",
       "      <td>Kolkata Knight Riders</td>\n",
       "      <td>Royal Challengers Bangalore</td>\n",
       "      <td>BB McCullum</td>\n",
       "      <td>P Kumar</td>\n",
       "      <td>1</td>\n",
       "      <td>0</td>\n",
       "      <td>0.2</td>\n",
       "      <td>1</td>\n",
       "      <td>0</td>\n",
       "      <td>0</td>\n",
       "      <td>0</td>\n",
       "      <td>222</td>\n",
       "    </tr>\n",
       "    <tr>\n",
       "      <th>2</th>\n",
       "      <td>1</td>\n",
       "      <td>18-04-2008</td>\n",
       "      <td>M Chinnaswamy Stadium</td>\n",
       "      <td>Kolkata Knight Riders</td>\n",
       "      <td>Royal Challengers Bangalore</td>\n",
       "      <td>BB McCullum</td>\n",
       "      <td>P Kumar</td>\n",
       "      <td>2</td>\n",
       "      <td>0</td>\n",
       "      <td>0.2</td>\n",
       "      <td>2</td>\n",
       "      <td>0</td>\n",
       "      <td>0</td>\n",
       "      <td>0</td>\n",
       "      <td>222</td>\n",
       "    </tr>\n",
       "    <tr>\n",
       "      <th>3</th>\n",
       "      <td>1</td>\n",
       "      <td>18-04-2008</td>\n",
       "      <td>M Chinnaswamy Stadium</td>\n",
       "      <td>Kolkata Knight Riders</td>\n",
       "      <td>Royal Challengers Bangalore</td>\n",
       "      <td>BB McCullum</td>\n",
       "      <td>P Kumar</td>\n",
       "      <td>2</td>\n",
       "      <td>0</td>\n",
       "      <td>0.3</td>\n",
       "      <td>2</td>\n",
       "      <td>0</td>\n",
       "      <td>0</td>\n",
       "      <td>0</td>\n",
       "      <td>222</td>\n",
       "    </tr>\n",
       "    <tr>\n",
       "      <th>4</th>\n",
       "      <td>1</td>\n",
       "      <td>18-04-2008</td>\n",
       "      <td>M Chinnaswamy Stadium</td>\n",
       "      <td>Kolkata Knight Riders</td>\n",
       "      <td>Royal Challengers Bangalore</td>\n",
       "      <td>BB McCullum</td>\n",
       "      <td>P Kumar</td>\n",
       "      <td>2</td>\n",
       "      <td>0</td>\n",
       "      <td>0.4</td>\n",
       "      <td>2</td>\n",
       "      <td>0</td>\n",
       "      <td>0</td>\n",
       "      <td>0</td>\n",
       "      <td>222</td>\n",
       "    </tr>\n",
       "  </tbody>\n",
       "</table>\n",
       "</div>"
      ],
      "text/plain": [
       "   mid        date                  venue               bat_team  \\\n",
       "0    1  18-04-2008  M Chinnaswamy Stadium  Kolkata Knight Riders   \n",
       "1    1  18-04-2008  M Chinnaswamy Stadium  Kolkata Knight Riders   \n",
       "2    1  18-04-2008  M Chinnaswamy Stadium  Kolkata Knight Riders   \n",
       "3    1  18-04-2008  M Chinnaswamy Stadium  Kolkata Knight Riders   \n",
       "4    1  18-04-2008  M Chinnaswamy Stadium  Kolkata Knight Riders   \n",
       "\n",
       "                     bowl_team      batsman   bowler  runs  wickets  overs  \\\n",
       "0  Royal Challengers Bangalore   SC Ganguly  P Kumar     1        0    0.1   \n",
       "1  Royal Challengers Bangalore  BB McCullum  P Kumar     1        0    0.2   \n",
       "2  Royal Challengers Bangalore  BB McCullum  P Kumar     2        0    0.2   \n",
       "3  Royal Challengers Bangalore  BB McCullum  P Kumar     2        0    0.3   \n",
       "4  Royal Challengers Bangalore  BB McCullum  P Kumar     2        0    0.4   \n",
       "\n",
       "   runs_last_5  wickets_last_5  striker  non-striker  total  \n",
       "0            1               0        0            0    222  \n",
       "1            1               0        0            0    222  \n",
       "2            2               0        0            0    222  \n",
       "3            2               0        0            0    222  \n",
       "4            2               0        0            0    222  "
      ]
     },
     "execution_count": 7,
     "metadata": {},
     "output_type": "execute_result"
    }
   ],
   "source": [
    "ipl = pd.read_csv('C:\\\\Users\\\\SOWMYA\\\\Downloads\\\\ipl_data (1).csv')\n",
    "ipl.head()"
   ]
  },
  {
   "cell_type": "code",
   "execution_count": 9,
   "id": "a7564099",
   "metadata": {},
   "outputs": [],
   "source": [
    "df=ipl.drop(['date','runs','wickets','overs','runs_last_5','wickets_last_5','mid','striker','non-striker'],axis =1)"
   ]
  },
  {
   "cell_type": "code",
   "execution_count": 10,
   "id": "58fa8e4a",
   "metadata": {},
   "outputs": [],
   "source": [
    "x=df.drop(['total'],axis=1)\n",
    "y=df['total']"
   ]
  },
  {
   "cell_type": "code",
   "execution_count": 11,
   "id": "493c5fb5",
   "metadata": {},
   "outputs": [],
   "source": [
    "from sklearn.preprocessing import LabelEncoder\n",
    "venue_encoder=LabelEncoder()\n",
    "batting_team_encoder=LabelEncoder()\n",
    "bowling_team_encoder=LabelEncoder()\n",
    "striker_encoder=LabelEncoder()\n",
    "bowler_encoder=LabelEncoder()\n",
    "\n",
    "x['venue']=venue_encoder.fit_transform(x['venue'])\n",
    "x['bat_team'] = batting_team_encoder.fit_transform(x['bat_team'])\n",
    "x['bowl_team'] = bowling_team_encoder.fit_transform(x['bowl_team'])\n",
    "x['batsman'] = striker_encoder.fit_transform(x['batsman'])\n",
    "x['bowler'] = bowler_encoder.fit_transform(x['bowler'])\n"
   ]
  },
  {
   "cell_type": "code",
   "execution_count": 12,
   "id": "44ddb204",
   "metadata": {},
   "outputs": [
    {
     "name": "stdout",
     "output_type": "stream",
     "text": [
      "0        14\n",
      "1        14\n",
      "2        14\n",
      "3        14\n",
      "4        14\n",
      "         ..\n",
      "76009    23\n",
      "76010    23\n",
      "76011    23\n",
      "76012    23\n",
      "76013    23\n",
      "Name: venue, Length: 76014, dtype: int32\n"
     ]
    }
   ],
   "source": [
    "print(x['venue'])"
   ]
  },
  {
   "cell_type": "code",
   "execution_count": 13,
   "id": "f6d5b75b",
   "metadata": {},
   "outputs": [
    {
     "name": "stdout",
     "output_type": "stream",
     "text": [
      "0        6\n",
      "1        6\n",
      "2        6\n",
      "3        6\n",
      "4        6\n",
      "        ..\n",
      "76009    7\n",
      "76010    7\n",
      "76011    7\n",
      "76012    7\n",
      "76013    7\n",
      "Name: bat_team, Length: 76014, dtype: int32\n"
     ]
    }
   ],
   "source": [
    "print(x['bat_team'])"
   ]
  },
  {
   "cell_type": "code",
   "execution_count": 14,
   "id": "c088cc6d",
   "metadata": {},
   "outputs": [],
   "source": [
    "from sklearn.model_selection import train_test_split\n",
    "x_train,x_test,y_train,y_test=train_test_split(x,y,test_size=0.2,random_state=0)"
   ]
  },
  {
   "cell_type": "code",
   "execution_count": 15,
   "id": "35ec4079",
   "metadata": {},
   "outputs": [],
   "source": [
    "from sklearn.preprocessing import MinMaxScaler\n",
    "scaler=MinMaxScaler()\n",
    "x_train_scaled=scaler.fit_transform(x_train)\n",
    "x_test_scaled=scaler.transform(x_test)\n"
   ]
  },
  {
   "cell_type": "code",
   "execution_count": 16,
   "id": "94c206c4",
   "metadata": {},
   "outputs": [],
   "source": [
    "model= keras.Sequential([\n",
    "    keras.layers.Input(shape=(x_train_scaled.shape[1],)),\n",
    "    keras.layers.Dense(512,activation='relu'),\n",
    "    keras.layers.Dense(216,activation='relu'),\n",
    "    keras.layers.Dense(1,activation='linear')   \n",
    "])\n",
    "huber_loss=tf.keras.losses.Huber(delta=1.0)\n",
    "model.compile(optimizer='adam',loss=huber_loss)"
   ]
  },
  {
   "cell_type": "code",
   "execution_count": 17,
   "id": "ea1dc85c",
   "metadata": {},
   "outputs": [
    {
     "name": "stdout",
     "output_type": "stream",
     "text": [
      "Epoch 1/50\n",
      "951/951 [==============================] - 6s 5ms/step - loss: 30.5907 - val_loss: 22.3366\n",
      "Epoch 2/50\n",
      "951/951 [==============================] - 5s 5ms/step - loss: 22.2562 - val_loss: 22.4790\n",
      "Epoch 3/50\n",
      "951/951 [==============================] - 5s 5ms/step - loss: 22.2455 - val_loss: 22.7395\n",
      "Epoch 4/50\n",
      "951/951 [==============================] - 5s 6ms/step - loss: 22.1800 - val_loss: 22.1290\n",
      "Epoch 5/50\n",
      "951/951 [==============================] - 5s 5ms/step - loss: 22.1205 - val_loss: 22.2982\n",
      "Epoch 6/50\n",
      "951/951 [==============================] - 4s 5ms/step - loss: 22.1142 - val_loss: 22.0767\n",
      "Epoch 7/50\n",
      "951/951 [==============================] - 5s 5ms/step - loss: 22.0540 - val_loss: 22.0869\n",
      "Epoch 8/50\n",
      "951/951 [==============================] - 5s 6ms/step - loss: 22.0486 - val_loss: 22.2967\n",
      "Epoch 9/50\n",
      "951/951 [==============================] - 5s 6ms/step - loss: 22.0536 - val_loss: 22.2777\n",
      "Epoch 10/50\n",
      "951/951 [==============================] - 5s 5ms/step - loss: 22.0276 - val_loss: 22.1667\n",
      "Epoch 11/50\n",
      "951/951 [==============================] - 5s 5ms/step - loss: 22.0192 - val_loss: 21.9426\n",
      "Epoch 12/50\n",
      "951/951 [==============================] - 5s 5ms/step - loss: 21.9829 - val_loss: 22.1962\n",
      "Epoch 13/50\n",
      "951/951 [==============================] - 6s 6ms/step - loss: 22.0110 - val_loss: 21.9723\n",
      "Epoch 14/50\n",
      "951/951 [==============================] - 4s 5ms/step - loss: 21.9727 - val_loss: 21.9398\n",
      "Epoch 15/50\n",
      "951/951 [==============================] - 5s 5ms/step - loss: 21.9830 - val_loss: 21.9484\n",
      "Epoch 16/50\n",
      "951/951 [==============================] - 5s 5ms/step - loss: 21.9055 - val_loss: 21.9329\n",
      "Epoch 17/50\n",
      "951/951 [==============================] - 5s 5ms/step - loss: 21.8179 - val_loss: 22.2300\n",
      "Epoch 18/50\n",
      "951/951 [==============================] - 4s 5ms/step - loss: 21.6232 - val_loss: 22.4654\n",
      "Epoch 19/50\n",
      "951/951 [==============================] - 5s 5ms/step - loss: 21.5418 - val_loss: 21.5419\n",
      "Epoch 20/50\n",
      "951/951 [==============================] - 4s 5ms/step - loss: 21.4749 - val_loss: 21.3757\n",
      "Epoch 21/50\n",
      "951/951 [==============================] - 5s 5ms/step - loss: 21.4061 - val_loss: 21.3196\n",
      "Epoch 22/50\n",
      "951/951 [==============================] - 5s 5ms/step - loss: 21.2941 - val_loss: 21.2155\n",
      "Epoch 23/50\n",
      "951/951 [==============================] - 5s 5ms/step - loss: 21.2079 - val_loss: 21.5708\n",
      "Epoch 24/50\n",
      "951/951 [==============================] - 5s 5ms/step - loss: 21.1327 - val_loss: 21.3100\n",
      "Epoch 25/50\n",
      "951/951 [==============================] - 5s 5ms/step - loss: 21.1045 - val_loss: 21.1439\n",
      "Epoch 26/50\n",
      "951/951 [==============================] - 5s 5ms/step - loss: 21.0613 - val_loss: 20.9837\n",
      "Epoch 27/50\n",
      "951/951 [==============================] - 5s 6ms/step - loss: 20.9263 - val_loss: 20.8880\n",
      "Epoch 28/50\n",
      "951/951 [==============================] - 4s 5ms/step - loss: 20.8492 - val_loss: 21.0798\n",
      "Epoch 29/50\n",
      "951/951 [==============================] - 5s 5ms/step - loss: 20.7243 - val_loss: 20.8877\n",
      "Epoch 30/50\n",
      "951/951 [==============================] - 5s 5ms/step - loss: 20.6103 - val_loss: 20.5906\n",
      "Epoch 31/50\n",
      "951/951 [==============================] - 5s 5ms/step - loss: 20.5054 - val_loss: 20.6211\n",
      "Epoch 32/50\n",
      "951/951 [==============================] - 5s 5ms/step - loss: 20.3379 - val_loss: 20.3926\n",
      "Epoch 33/50\n",
      "951/951 [==============================] - 5s 5ms/step - loss: 20.2574 - val_loss: 20.4031\n",
      "Epoch 34/50\n",
      "951/951 [==============================] - 5s 5ms/step - loss: 20.0813 - val_loss: 20.0738\n",
      "Epoch 35/50\n",
      "951/951 [==============================] - 5s 5ms/step - loss: 19.9230 - val_loss: 19.9120\n",
      "Epoch 36/50\n",
      "951/951 [==============================] - 5s 5ms/step - loss: 19.8226 - val_loss: 20.0014\n",
      "Epoch 37/50\n",
      "951/951 [==============================] - 5s 5ms/step - loss: 19.7005 - val_loss: 19.6280\n",
      "Epoch 38/50\n",
      "951/951 [==============================] - 5s 5ms/step - loss: 19.5758 - val_loss: 19.4814\n",
      "Epoch 39/50\n",
      "951/951 [==============================] - 5s 5ms/step - loss: 19.4824 - val_loss: 19.3441\n",
      "Epoch 40/50\n",
      "951/951 [==============================] - 5s 5ms/step - loss: 19.3369 - val_loss: 19.3520\n",
      "Epoch 41/50\n",
      "951/951 [==============================] - 5s 5ms/step - loss: 19.2396 - val_loss: 19.4869\n",
      "Epoch 42/50\n",
      "951/951 [==============================] - 5s 5ms/step - loss: 19.1609 - val_loss: 19.1059\n",
      "Epoch 43/50\n",
      "951/951 [==============================] - 5s 5ms/step - loss: 19.0138 - val_loss: 19.1102\n",
      "Epoch 44/50\n",
      "951/951 [==============================] - 5s 5ms/step - loss: 18.9923 - val_loss: 18.9707\n",
      "Epoch 45/50\n",
      "951/951 [==============================] - 5s 5ms/step - loss: 18.9035 - val_loss: 19.0465\n",
      "Epoch 46/50\n",
      "951/951 [==============================] - 5s 5ms/step - loss: 18.9078 - val_loss: 18.7080\n",
      "Epoch 47/50\n",
      "951/951 [==============================] - 5s 5ms/step - loss: 18.6944 - val_loss: 18.7720\n",
      "Epoch 48/50\n",
      "951/951 [==============================] - 5s 5ms/step - loss: 18.7253 - val_loss: 18.6714\n",
      "Epoch 49/50\n",
      "951/951 [==============================] - 5s 5ms/step - loss: 18.5865 - val_loss: 19.3389\n",
      "Epoch 50/50\n",
      "951/951 [==============================] - 5s 5ms/step - loss: 18.4793 - val_loss: 18.3553\n"
     ]
    },
    {
     "data": {
      "text/plain": [
       "<keras.src.callbacks.History at 0x1e10b879490>"
      ]
     },
     "execution_count": 17,
     "metadata": {},
     "output_type": "execute_result"
    }
   ],
   "source": [
    "model.fit(x_train_scaled,y_train,epochs=50,batch_size=64,validation_data=(x_test_scaled,y_test))"
   ]
  },
  {
   "cell_type": "code",
   "execution_count": 18,
   "id": "4d89fcba",
   "metadata": {},
   "outputs": [
    {
     "data": {
      "text/plain": [
       "<AxesSubplot:>"
      ]
     },
     "execution_count": 18,
     "metadata": {},
     "output_type": "execute_result"
    },
    {
     "data": {
      "image/png": "[encoded data removed]",
      "text/plain": [
       "<Figure size 432x288 with 1 Axes>"
      ]
     },
     "metadata": {
      "needs_background": "light"
     },
     "output_type": "display_data"
    }
   ],
   "source": [
    "model_losses=pd.DataFrame(model.history.history)\n",
    "model_losses.plot()"
   ]
  },
  {
   "cell_type": "code",
   "execution_count": 19,
   "id": "d53686e4",
   "metadata": {},
   "outputs": [
    {
     "name": "stdout",
     "output_type": "stream",
     "text": [
      "476/476 [==============================] - 2s 3ms/step\n"
     ]
    },
    {
     "data": {
      "text/plain": [
       "18.8445370947696"
      ]
     },
     "execution_count": 19,
     "metadata": {},
     "output_type": "execute_result"
    }
   ],
   "source": [
    "predictions=model.predict(x_test_scaled)\n",
    "from sklearn.metrics import mean_absolute_error,mean_squared_error\n",
    "mean_absolute_error(y_test,predictions)\n"
   ]
  },
  {
   "cell_type": "code",
   "execution_count": 21,
   "id": "f51eee08",
   "metadata": {},
   "outputs": [],
   "source": [
    "\n",
    "import ipywidgets as widgets\n",
    "from IPython.display import display, clear_output\n",
    "\n",
    "import warnings\n",
    "warnings.filterwarnings(\"ignore\")\n",
    "\n",
    "venue = widgets.Dropdown(options=df['venue'].unique().tolist(),description='Select Venue:')\n",
    "batting_team = widgets.Dropdown(options =df['bat_team'].unique().tolist(), description='Select Batting Team:')\n",
    "bowling_team = widgets.Dropdown(options=df['bowl_team'].unique().tolist(), description='Select Bowling Team:')\n",
    "striker = widgets.Dropdown(options=df['batsman'].unique().tolist(), description='Select Striker:')\n",
    "bowler = widgets.Dropdown(options=df['bowler'].unique().tolist(), description='Select Bowler:')\n",
    "\n",
    "predict_button = widgets.Button(description=\"Predict Score\")\n",
    "\n",
    "def predict_score(b):\n",
    "\twith output:\n",
    "\t\tclear_output() # Clear the previous output\n",
    "\t\t\n",
    "\n",
    "\t\t# Decode the encoded values back to their original values\n",
    "\t\tdecoded_venue = venue_encoder.transform([venue.value])\n",
    "\t\tdecoded_batting_team = batting_team_encoder.transform([batting_team.value])\n",
    "\t\tdecoded_bowling_team = bowling_team_encoder.transform([bowling_team.value])\n",
    "\t\tdecoded_striker = striker_encoder.transform([striker.value])\n",
    "\t\tdecoded_bowler = bowler_encoder.transform([bowler.value])\n",
    "\n",
    "\n",
    "\t\tinput = np.array([decoded_venue, decoded_batting_team, decoded_bowling_team,decoded_striker, decoded_bowler])\n",
    "\t\tinput = input.reshape(1,5)\n",
    "\t\tinput = scaler.transform(input)\n",
    "\t\t#print(input)\n",
    "\t\tpredicted_score = model.predict(input)\n",
    "\t\tpredicted_score = int(predicted_score[0,0])\n",
    "\n",
    "\t\tprint(predicted_score)\n"
   ]
  },
  {
   "cell_type": "code",
   "execution_count": 22,
   "id": "7e8dfab2",
   "metadata": {},
   "outputs": [
    {
     "data": {
      "application/vnd.jupyter.widget-view+json": {
       "model_id": "85a9aaf10eda4a2385dfe9825969c893",
       "version_major": 2,
       "version_minor": 0
      },
      "text/plain": [
       "Dropdown(description='Select Venue:', options=('M Chinnaswamy Stadium', 'Punjab Cricket Association Stadium, M…"
      ]
     },
     "metadata": {},
     "output_type": "display_data"
    },
    {
     "data": {
      "application/vnd.jupyter.widget-view+json": {
       "model_id": "23769eed273047f28c2330366f89b743",
       "version_major": 2,
       "version_minor": 0
      },
      "text/plain": [
       "Dropdown(description='Select Batting Team:', options=('Kolkata Knight Riders', 'Chennai Super Kings', 'Rajasth…"
      ]
     },
     "metadata": {},
     "output_type": "display_data"
    },
    {
     "data": {
      "application/vnd.jupyter.widget-view+json": {
       "model_id": "66a3285ff40d421eb0aa353d81471603",
       "version_major": 2,
       "version_minor": 0
      },
      "text/plain": [
       "Dropdown(description='Select Bowling Team:', options=('Royal Challengers Bangalore', 'Kings XI Punjab', 'Delhi…"
      ]
     },
     "metadata": {},
     "output_type": "display_data"
    },
    {
     "data": {
      "application/vnd.jupyter.widget-view+json": {
       "model_id": "8500a53988aa401499d871eafb2f8017",
       "version_major": 2,
       "version_minor": 0
      },
      "text/plain": [
       "Dropdown(description='Select Striker:', options=('SC Ganguly', 'BB McCullum', 'RT Ponting', 'DJ Hussey', 'Moha…"
      ]
     },
     "metadata": {},
     "output_type": "display_data"
    },
    {
     "data": {
      "application/vnd.jupyter.widget-view+json": {
       "model_id": "b704fcc794c6407fa2ee3162140f9b44",
       "version_major": 2,
       "version_minor": 0
      },
      "text/plain": [
       "Dropdown(description='Select Bowler:', options=('P Kumar', 'Z Khan', 'AA Noffke', 'JH Kallis', 'SB Joshi', 'CL…"
      ]
     },
     "metadata": {},
     "output_type": "display_data"
    },
    {
     "data": {
      "application/vnd.jupyter.widget-view+json": {
       "model_id": "936b59389dc54adc9a626ef6c09c4b9c",
       "version_major": 2,
       "version_minor": 0
      },
      "text/plain": [
       "Button(description='Predict Score', style=ButtonStyle())"
      ]
     },
     "metadata": {},
     "output_type": "display_data"
    },
    {
     "data": {
      "application/vnd.jupyter.widget-view+json": {
       "model_id": "b53d9d8d92da45279cf1d638c74cd2a0",
       "version_major": 2,
       "version_minor": 0
      },
      "text/plain": [
       "Output()"
      ]
     },
     "metadata": {},
     "output_type": "display_data"
    }
   ],
   "source": [
    "predict_button.on_click(predict_score)\n",
    "output = widgets.Output()\n",
    "display(venue, batting_team, bowling_team, striker, bowler, predict_button, output)\n"
   ]
  },
  {
   "cell_type": "code",
   "execution_count": null,
   "id": "dea9b99c",
   "metadata": {},
   "outputs": [],
   "source": []
  }
 ],
 "metadata": {
  "kernelspec": {
   "display_name": "Python 3 (ipykernel)",
   "language": "python",
   "name": "python3"
  },
  "language_info": {
   "codemirror_mode": {
    "name": "ipython",
    "version": 3
   },
   "file_extension": ".py",
   "mimetype": "text/x-python",
   "name": "python",
   "nbconvert_exporter": "python",
   "pygments_lexer": "ipython3",
   "version": "3.9.12"
  }
 },
 "nbformat": 4,
 "nbformat_minor": 5
}
